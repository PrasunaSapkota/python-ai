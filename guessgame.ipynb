{
 "cells": [
  {
   "cell_type": "code",
   "execution_count": 1,
   "id": "42bf54e8",
   "metadata": {},
   "outputs": [
    {
     "name": "stdout",
     "output_type": "stream",
     "text": [
      "Welcome to the Number Guessing Game!\n",
      "I've picked a random number between 1 and 100. Try to guess it!\n",
      "Enter your guess: 8\n",
      "Too low! Try a higher number.\n",
      "Enter your guess: 46\n",
      "Too low! Try a higher number.\n",
      "Enter your guess: 67\n",
      "Too high! Try a lower number.\n",
      "Enter your guess: 58\n",
      "Too low! Try a higher number.\n",
      "Enter your guess: 60\n",
      "Too low! Try a higher number.\n",
      "Enter your guess: 64\n",
      "Congratulations! You've guessed the correct number 64 in 6 attempts!\n"
     ]
    }
   ],
   "source": [
    "import random\n",
    "def guess_number():\n",
    "    \n",
    "    target_number = random.randint(1, 100)\n",
    "    attempts = 0\n",
    "    \n",
    "    print(\"Welcome to the Number Guessing Game!\")\n",
    "    print(\"I've picked a random number between 1 and 100. Try to guess it!\")\n",
    "\n",
    "    while True:\n",
    "        user_guess = int(input(\"Enter your guess: \"))\n",
    "        \n",
    "        attempts += 1\n",
    "        \n",
    "        if user_guess == target_number:\n",
    "            print(f\"Congratulations! You've guessed the correct number {target_number} in {attempts} attempts!\")\n",
    "            break\n",
    "        elif user_guess > target_number:\n",
    "            print(\"Too high! Try a lower number.\")\n",
    "        else:\n",
    "            print(\"Too low! Try a higher number.\")\n",
    "guess_number()"
   ]
  }
 ],
 "metadata": {
  "kernelspec": {
   "display_name": "Python 3 (ipykernel)",
   "language": "python",
   "name": "python3"
  },
  "language_info": {
   "codemirror_mode": {
    "name": "ipython",
    "version": 3
   },
   "file_extension": ".py",
   "mimetype": "text/x-python",
   "name": "python",
   "nbconvert_exporter": "python",
   "pygments_lexer": "ipython3",
   "version": "3.11.5"
  }
 },
 "nbformat": 4,
 "nbformat_minor": 5
}
