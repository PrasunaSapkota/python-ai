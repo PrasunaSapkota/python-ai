{
 "cells": [
  {
   "cell_type": "code",
   "execution_count": 3,
   "id": "33326c73",
   "metadata": {},
   "outputs": [
    {
     "name": "stdout",
     "output_type": "stream",
     "text": [
      "Prime numbers between 1 and 100: [2, 3, 5, 7, 11, 13, 17, 19, 23, 29, 31, 37, 41, 43, 47, 53, 59, 61, 67, 71, 73, 79, 83, 89, 97]\n"
     ]
    }
   ],
   "source": [
    "def is_prime(n):\n",
    "    if n <= 1:\n",
    "        return False\n",
    "    for i in range(2, int(n**0.5) + 1):\n",
    "        if n % i == 0:\n",
    "            return False\n",
    "    return True\n",
    "\n",
    "def find_primes_in_range(start, end):\n",
    "    primes = []\n",
    "    for number in range(start, end + 1):\n",
    "        if is_prime(number):\n",
    "            primes.append(number)\n",
    "    return primes\n",
    "\n",
    "\n",
    "start_range = 1\n",
    "end_range = 100\n",
    "primes = find_primes_in_range(start_range, end_range)\n",
    "print(f\"Prime numbers between {start_range} and {end_range}: {primes}\")\n",
    "\n"
   ]
  }
 ],
 "metadata": {
  "kernelspec": {
   "display_name": "Python 3 (ipykernel)",
   "language": "python",
   "name": "python3"
  },
  "language_info": {
   "codemirror_mode": {
    "name": "ipython",
    "version": 3
   },
   "file_extension": ".py",
   "mimetype": "text/x-python",
   "name": "python",
   "nbconvert_exporter": "python",
   "pygments_lexer": "ipython3",
   "version": "3.11.5"
  }
 },
 "nbformat": 4,
 "nbformat_minor": 5
}
